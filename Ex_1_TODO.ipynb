{
 "cells": [
  {
   "cell_type": "markdown",
   "metadata": {},
   "source": [
    "Complete the following code before committing and pushing them to your GH repo:"
   ]
  },
  {
   "cell_type": "code",
   "execution_count": 1,
   "metadata": {},
   "outputs": [
    {
     "name": "stdout",
     "output_type": "stream",
     "text": [
      "NURSERY RHYMES\n",
      "nursery rhymes\n",
      "baa, baa, baa, black sheep, have you any wool?\n",
      " maa, maa, maa, black sheep, have you any wool? \n",
      "['baa,', 'baa,', 'baa,', 'black', 'sheep,', 'have', 'you', 'any', 'wool?']\n",
      "3\n",
      "2\n",
      "34\n",
      "-1\n",
      "True\n",
      "True\n"
     ]
    }
   ],
   "source": [
    "str1 = ' baa, baa, baa, black sheep, have you any wool? '\n",
    "str2 = 'Nursery rhymes'\n",
    "\n",
    "poem = '''baa, baa, baa, black sheep,\n",
    "have you any wool?'''\n",
    "\n",
    "# 打印str2全部转为大写\n",
    "print(str2.upper())\n",
    "\n",
    "# 打印str2全部转为小写\n",
    "print(str2.lower())\n",
    "\n",
    "# 去除str1的首尾空格\n",
    "print(str1.strip())\n",
    "\n",
    "# 将'baa'替换为'maa'\n",
    "print(str1.replace('baa', 'maa'))\n",
    "\n",
    "# 使用split()方法，以空格为分隔符，将str1转换为列表\n",
    "print(str1.split())\n",
    "\n",
    "# 统计'baa'在str1中出现的次数\n",
    "print(str1.count('baa'))\n",
    "\n",
    "# 统计'baa'在str1中从索引5到30的位置出现的次数\n",
    "print(str1.count('baa', 5, 30))\n",
    "\n",
    "# 查找'y'在str1中的索引位置\n",
    "print(str1.find('y'))\n",
    "\n",
    "# 查找'z'在str1中的索引位置，如果不存在返回-1\n",
    "print(str1.find('z'))\n",
    "\n",
    "# 检查str1是否以'? '结尾\n",
    "print(str1.endswith('? '))\n",
    "\n",
    "# 检查str2是否以'Nursery'开头\n",
    "print(str2.startswith('Nursery'))\n"
   ]
  },
  {
   "cell_type": "code",
   "execution_count": null,
   "metadata": {},
   "outputs": [],
   "source": []
  }
 ],
 "metadata": {
  "kernelspec": {
   "display_name": "Python 3",
   "language": "python",
   "name": "python3"
  },
  "language_info": {
   "codemirror_mode": {
    "name": "ipython",
    "version": 3
   },
   "file_extension": ".py",
   "mimetype": "text/x-python",
   "name": "python",
   "nbconvert_exporter": "python",
   "pygments_lexer": "ipython3",
   "version": "3.11.9"
  }
 },
 "nbformat": 4,
 "nbformat_minor": 2
}
